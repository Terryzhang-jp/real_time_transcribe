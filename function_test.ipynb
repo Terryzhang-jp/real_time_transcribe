{
 "cells": [
  {
   "cell_type": "code",
   "execution_count": 10,
   "metadata": {},
   "outputs": [],
   "source": [
    "import os"
   ]
  },
  {
   "cell_type": "code",
   "execution_count": 12,
   "metadata": {},
   "outputs": [],
   "source": [
    "from langchain.schema import Document\n",
    "from langchain.utilities import ApifyWrapper\n",
    "from langchain.indexes import VectorstoreIndexCreator\n",
    "\n",
    "apify = ApifyWrapper()\n",
    "\n",
    "url = 'https://mermaid.js.org/'\n",
    "\n",
    "loader = apify.call_actor(\n",
    "    actor_id='apify/website-content-crawler',\n",
    "    run_input={'startUrls': [{'url': url}]},\n",
    "    dataset_mapping_function=lambda item: Document(\n",
    "        page_content=item['text'] or '', \n",
    "        metadata={'source': item['url']}\n",
    "    ),\n",
    ")"
   ]
  },
  {
   "cell_type": "code",
   "execution_count": 14,
   "metadata": {},
   "outputs": [],
   "source": []
  },
  {
   "cell_type": "code",
   "execution_count": 19,
   "metadata": {},
   "outputs": [
    {
     "name": "stderr",
     "output_type": "stream",
     "text": [
      "/opt/miniconda3/envs/whisper_core/lib/python3.10/site-packages/sentence_transformers/cross_encoder/CrossEncoder.py:13: TqdmWarning: IProgress not found. Please update jupyter and ipywidgets. See https://ipywidgets.readthedocs.io/en/stable/user_install.html\n",
      "  from tqdm.autonotebook import tqdm, trange\n"
     ]
    }
   ],
   "source": [
    "from langchain.embeddings import HuggingFaceEmbeddings\n",
    "from langchain.indexes import VectorstoreIndexCreator\n",
    "from langchain.vectorstores import FAISS\n",
    "\n",
    "# 创建嵌入模型\n",
    "embeddings = HuggingFaceEmbeddings(\n",
    "    model_name=\"sentence-transformers/all-MiniLM-L6-v2\"\n",
    ")\n",
    "\n",
    "# 创建索引\n",
    "index = VectorstoreIndexCreator(\n",
    "    vectorstore_cls=FAISS,\n",
    "    embedding=embeddings\n",
    ").from_loaders([loader])"
   ]
  },
  {
   "cell_type": "code",
   "execution_count": 22,
   "metadata": {},
   "outputs": [
    {
     "data": {
      "text/plain": [
       "{'question': 'What is the syntax for flowcharts?',\n",
       " 'answer': ' The syntax for flowcharts includes using double asterisks for bold text and single asterisks for italics. The auto wrapping feature can be disabled by using a specific code. Chaining of links and multiple node links can also be declared in the same line. There are also new types of arrows supported, such as circle edge and cross edge. \\n',\n",
       " 'sources': 'https://mermaid.js.org/news/blog.html, https://mermaid.js.org/syntax/flowchart.html?id=flowcharts-basic-syntax, https://mermaid.js.org/syntax/flowchart.html?id=special-characters-that-break-syntax, https://mermaid.js.org/syntax/flowchart.html'}"
      ]
     },
     "execution_count": 22,
     "metadata": {},
     "output_type": "execute_result"
    }
   ],
   "source": [
    "from langchain_openai import OpenAI\n",
    "from langchain.indexes import VectorstoreIndexCreator\n",
    "\n",
    "# 创建 LLM\n",
    "llm = OpenAI(temperature=0)\n",
    "query = 'What is the syntax for flowcharts?'\n",
    "result = index.query_with_sources(query, llm=llm)\n",
    "result"
   ]
  },
  {
   "cell_type": "code",
   "execution_count": 34,
   "metadata": {},
   "outputs": [],
   "source": [
    "retriever = index.vectorstore.as_retriever()\n",
    "# we change the number of document to return \n",
    "retriever.search_kwargs['k'] = 10"
   ]
  },
  {
   "cell_type": "code",
   "execution_count": 35,
   "metadata": {},
   "outputs": [],
   "source": [
    "text = \"\"\"\n",
    "Machine learning (ML) is a field devoted to understanding and building methods that let machines \"learn\" – that is, methods that leverage data to improve computer performance on some set of tasks.[1] Machine learning algorithms build a model based on sample data, known as training data, in order to make predictions or decisions without being explicitly programmed to do so.[2] Machine learning algorithms are used in a wide variety of applications, such as in medicine, email filtering, speech recognition, agriculture, and computer vision, where it is difficult or unfeasible to develop conventional algorithms to perform the needed tasks.[3][4] A subset of machine learning is closely related to computational statistics, which focuses on making predictions using computers, but not all machine learning is statistical learning. The study of mathematical optimization delivers methods, theory and application domains to the field of machine learning. Data mining is a related field of study, focusing on exploratory data analysis through unsupervised learning.[6][7] Some implementations of machine learning use data and neural networks in a way that mimics the working of a biological brain.[8][9] In its application across business problems, machine learning is also referred to as predictive analytics.\n",
    "\"\"\""
   ]
  },
  {
   "cell_type": "code",
   "execution_count": 75,
   "metadata": {},
   "outputs": [],
   "source": [
    "from langchain.chains import RetrievalQA\n",
    "from langchain.chat_models import ChatOpenAI\n",
    "\n",
    "llm = ChatOpenAI(model_name=\"gpt-4o-mini\")\n",
    "\n",
    "mermaid_qa = RetrievalQA.from_chain_type(\n",
    "    llm=llm, \n",
    "    retriever=retriever,\n",
    ")\n",
    "\n",
    "query = \"\"\"\n",
    "Your job is to write the code to generate a colorful mermaid diagram describing the logic of following text, you need to decide the topic.\n",
    "Return only the code and make sure it has multiple colors, and remove the unnecessary punctuation.\n",
    "\n",
    "TEXT: {text}\n",
    "\"\"\"\n",
    "result = mermaid_qa.run(query.format(text=text))"
   ]
  },
  {
   "cell_type": "code",
   "execution_count": 76,
   "metadata": {},
   "outputs": [
    {
     "data": {
      "text/plain": [
       "'```mermaid\\ngraph TD\\n    A[Machine Learning] -->|Uses| B[Data]\\n    A -->|Builds| C[Models]\\n    B --> D[Training Data]\\n    C --> E[Predictions]\\n    C --> F[Decisions]\\n    E -->|Applications| G[Medicine]\\n    E -->|Applications| H[Email Filtering]\\n    E -->|Applications| I[Speech Recognition]\\n    E -->|Applications| J[Agriculture]\\n    E -->|Applications| K[Computer Vision]\\n    A --> L[Statistical Learning]\\n    A --> M[Mathematical Optimization]\\n    A --> N[Data Mining]\\n    M --> O[Methods and Theory]\\n    N --> P[Exploratory Data Analysis]\\n    A --> Q[Predictive Analytics]\\n    \\n    style A fill:#ffcc00,stroke:#333,stroke-width:2px;\\n    style B fill:#ff6699,stroke:#333,stroke-width:2px;\\n    style C fill:#66ccff,stroke:#333,stroke-width:2px;\\n    style D fill:#ffcc66,stroke:#333,stroke-width:2px;\\n    style E fill:#99ff99,stroke:#333,stroke-width:2px;\\n    style F fill:#ff9966,stroke:#333,stroke-width:2px;\\n    style G fill:#ffccff,stroke:#333,stroke-width:2px;\\n    style H fill:#ccffcc,stroke:#333,stroke-width:2px;\\n    style I fill:#66ffcc,stroke:#333,stroke-width:2px;\\n    style J fill:#ffcc33,stroke:#333,stroke-width:2px;\\n    style K fill:#cc99ff,stroke:#333,stroke-width:2px;\\n    style L fill:#ffff66,stroke:#333,stroke-width:2px;\\n    style M fill:#ffcc99,stroke:#333,stroke-width:2px;\\n    style N fill:#ccccff,stroke:#333,stroke-width:2px;\\n    style O fill:#ff6699,stroke:#333,stroke-width:2px;\\n    style P fill:#99ccff,stroke:#333,stroke-width:2px;\\n    style Q fill:#ffcc00,stroke:#333,stroke-width:2px;\\n```'"
      ]
     },
     "execution_count": 76,
     "metadata": {},
     "output_type": "execute_result"
    }
   ],
   "source": [
    "result"
   ]
  },
  {
   "cell_type": "code",
   "execution_count": 77,
   "metadata": {},
   "outputs": [],
   "source": [
    "def extract_mermaid_code(text):\n",
    "    \"\"\"\n",
    "    从文本中提取 Mermaid 代码\n",
    "    \n",
    "    Args:\n",
    "        text (str): 包含 Mermaid 代码的文本字符串\n",
    "        \n",
    "    Returns:\n",
    "        str: 清理后的 Mermaid 代码\n",
    "    \"\"\"\n",
    "    # 如果文本包含 ```mermaid 标记\n",
    "    if \"```mermaid\" in text:\n",
    "        # 分割文本，获取 mermaid 代码部分\n",
    "        code = text.split(\"```mermaid\")[-1]\n",
    "        # 移除结尾的 ``` 标记\n",
    "        code = code.split(\"```\")[0]\n",
    "    else:\n",
    "        code = text\n",
    "        \n",
    "    # 清理代码\n",
    "    code = code.strip()  # 移除首尾空白\n",
    "    code = code.replace(\"\\\\n\", \"\\n\")  # 替换 \\n 字符为实际的换行符\n",
    "    \n",
    "    return code\n",
    "\n",
    "mermaid_code = extract_mermaid_code(result)"
   ]
  },
  {
   "cell_type": "code",
   "execution_count": 78,
   "metadata": {},
   "outputs": [
    {
     "data": {
      "text/html": [
       "<img src=\"https://mermaid.ink/img/Z3JhcGggVEQKICAgIEFbTWFjaGluZSBMZWFybmluZ10gLS0-fFVzZXN8IEJbRGF0YV0KICAgIEEgLS0-fEJ1aWxkc3wgQ1tNb2RlbHNdCiAgICBCIC0tPiBEW1RyYWluaW5nIERhdGFdCiAgICBDIC0tPiBFW1ByZWRpY3Rpb25zXQogICAgQyAtLT4gRltEZWNpc2lvbnNdCiAgICBFIC0tPnxBcHBsaWNhdGlvbnN8IEdbTWVkaWNpbmVdCiAgICBFIC0tPnxBcHBsaWNhdGlvbnN8IEhbRW1haWwgRmlsdGVyaW5nXQogICAgRSAtLT58QXBwbGljYXRpb25zfCBJW1NwZWVjaCBSZWNvZ25pdGlvbl0KICAgIEUgLS0-fEFwcGxpY2F0aW9uc3wgSltBZ3JpY3VsdHVyZV0KICAgIEUgLS0-fEFwcGxpY2F0aW9uc3wgS1tDb21wdXRlciBWaXNpb25dCiAgICBBIC0tPiBMW1N0YXRpc3RpY2FsIExlYXJuaW5nXQogICAgQSAtLT4gTVtNYXRoZW1hdGljYWwgT3B0aW1pemF0aW9uXQogICAgQSAtLT4gTltEYXRhIE1pbmluZ10KICAgIE0gLS0-IE9bTWV0aG9kcyBhbmQgVGhlb3J5XQogICAgTiAtLT4gUFtFeHBsb3JhdG9yeSBEYXRhIEFuYWx5c2lzXQogICAgQSAtLT4gUVtQcmVkaWN0aXZlIEFuYWx5dGljc10KICAgIAogICAgc3R5bGUgQSBmaWxsOiNmZmNjMDAsc3Ryb2tlOiMzMzMsc3Ryb2tlLXdpZHRoOjJweDsKICAgIHN0eWxlIEIgZmlsbDojZmY2Njk5LHN0cm9rZTojMzMzLHN0cm9rZS13aWR0aDoycHg7CiAgICBzdHlsZSBDIGZpbGw6IzY2Y2NmZixzdHJva2U6IzMzMyxzdHJva2Utd2lkdGg6MnB4OwogICAgc3R5bGUgRCBmaWxsOiNmZmNjNjYsc3Ryb2tlOiMzMzMsc3Ryb2tlLXdpZHRoOjJweDsKICAgIHN0eWxlIEUgZmlsbDojOTlmZjk5LHN0cm9rZTojMzMzLHN0cm9rZS13aWR0aDoycHg7CiAgICBzdHlsZSBGIGZpbGw6I2ZmOTk2NixzdHJva2U6IzMzMyxzdHJva2Utd2lkdGg6MnB4OwogICAgc3R5bGUgRyBmaWxsOiNmZmNjZmYsc3Ryb2tlOiMzMzMsc3Ryb2tlLXdpZHRoOjJweDsKICAgIHN0eWxlIEggZmlsbDojY2NmZmNjLHN0cm9rZTojMzMzLHN0cm9rZS13aWR0aDoycHg7CiAgICBzdHlsZSBJIGZpbGw6IzY2ZmZjYyxzdHJva2U6IzMzMyxzdHJva2Utd2lkdGg6MnB4OwogICAgc3R5bGUgSiBmaWxsOiNmZmNjMzMsc3Ryb2tlOiMzMzMsc3Ryb2tlLXdpZHRoOjJweDsKICAgIHN0eWxlIEsgZmlsbDojY2M5OWZmLHN0cm9rZTojMzMzLHN0cm9rZS13aWR0aDoycHg7CiAgICBzdHlsZSBMIGZpbGw6I2ZmZmY2NixzdHJva2U6IzMzMyxzdHJva2Utd2lkdGg6MnB4OwogICAgc3R5bGUgTSBmaWxsOiNmZmNjOTksc3Ryb2tlOiMzMzMsc3Ryb2tlLXdpZHRoOjJweDsKICAgIHN0eWxlIE4gZmlsbDojY2NjY2ZmLHN0cm9rZTojMzMzLHN0cm9rZS13aWR0aDoycHg7CiAgICBzdHlsZSBPIGZpbGw6I2ZmNjY5OSxzdHJva2U6IzMzMyxzdHJva2Utd2lkdGg6MnB4OwogICAgc3R5bGUgUCBmaWxsOiM5OWNjZmYsc3Ryb2tlOiMzMzMsc3Ryb2tlLXdpZHRoOjJweDsKICAgIHN0eWxlIFEgZmlsbDojZmZjYzAwLHN0cm9rZTojMzMzLHN0cm9rZS13aWR0aDoycHg7\"/>"
      ],
      "text/plain": [
       "<IPython.core.display.Image object>"
      ]
     },
     "metadata": {},
     "output_type": "display_data"
    },
    {
     "name": "stdout",
     "output_type": "stream",
     "text": [
      "Image saved to ml_diagram.png\n"
     ]
    }
   ],
   "source": [
    "import base64\n",
    "from IPython.display import Image, display\n",
    "import requests\n",
    "import matplotlib.pyplot as plt\n",
    "\n",
    "def mm(graph, save_path=None):\n",
    "    graphbytes = graph.encode(\"utf8\")\n",
    "    base64_bytes = base64.urlsafe_b64encode(graphbytes)\n",
    "    base64_string = base64_bytes.decode(\"ascii\")\n",
    "    url = \"https://mermaid.ink/img/\" + base64_string\n",
    "    \n",
    "    # 显示图片\n",
    "    display(Image(url=url))\n",
    "    \n",
    "    # 如果指定了保存路径，则下载并保存图片\n",
    "    if save_path:\n",
    "        response = requests.get(url)\n",
    "        if response.status_code == 200:\n",
    "            with open(save_path, 'wb') as f:\n",
    "                f.write(response.content)\n",
    "            print(f\"Image saved to {save_path}\")\n",
    "        else:\n",
    "            print(\"Failed to download image\")\n",
    "\n",
    "# 使用示例\n",
    "mm(mermaid_code, save_path=\"ml_diagram.png\")"
   ]
  },
  {
   "cell_type": "code",
   "execution_count": 61,
   "metadata": {},
   "outputs": [
    {
     "data": {
      "text/html": [
       "<img src=\"https://mermaid.ink/img/CmdyYXBoIFREOwogICAgQVtNYWNoaW5lIExlYXJuaW5nIE1MXSAtLT58ZGV2b3RlZCB0b3wgQltVbmRlcnN0YW5kaW5nIGFuZCBCdWlsZGluZyBNZXRob2RzXQogICAgQSAtLT58bWV0aG9kcyB0aGF0fCBDW0xldCBNYWNoaW5lcyBMZWFybl0KICAgIEMgLS0-fGxldmVyYWdlfCBEW0RhdGFdCiAgICBEIC0tPnxpbXByb3ZlfCBFW0NvbXB1dGVyIFBlcmZvcm1hbmNlXQogICAgQiAtLT58YnVpbGR8IEZbTW9kZWxdCiAgICBGIC0tPnxiYXNlZCBvbnwgR1tTYW1wbGUgRGF0YV0KICAgIEcgLS0-fGtub3duIGFzfCBIW1RyYWluaW5nIERhdGFdCiAgICBGIC0tPnxtYWtlfCBJW1ByZWRpY3Rpb25zIG9yIERlY2lzaW9uc10KICAgIEkgLS0-fHdpdGhvdXR8IEpbRXhwbGljaXQgUHJvZ3JhbW1pbmddCiAgICBBIC0tPnx1c2VkIGlufCBLW1dpZGUgVmFyaWV0eSBvZiBBcHBsaWNhdGlvbnNdCiAgICBLIC0tPnxzdWNoIGFzfCBMW01lZGljaW5lXQogICAgSyAtLT58c3VjaCBhc3wgTVtFbWFpbCBGaWx0ZXJpbmddCiAgICBLIC0tPnxzdWNoIGFzfCBOW1NwZWVjaCBSZWNvZ25pdGlvbl0KICAgIEsgLS0-fHN1Y2ggYXN8IE9bQWdyaWN1bHR1cmVdCiAgICBLIC0tPnxzdWNoIGFzfCBQW0NvbXB1dGVyIFZpc2lvbl0KCiAgICBjbGFzc0RlZiBtbCBmaWxsOiNmZmNjMDAsc3Ryb2tlOiMwMDAsc3Ryb2tlLXdpZHRoOjJweDsKICAgIGNsYXNzRGVmIG1ldGhvZHMgZmlsbDojMDBjY2ZmLHN0cm9rZTojMDAwLHN0cm9rZS13aWR0aDoycHg7CiAgICBjbGFzc0RlZiBkYXRhIGZpbGw6I2ZmNjY5OSxzdHJva2U6IzAwMCxzdHJva2Utd2lkdGg6MnB4OwogICAgY2xhc3NEZWYgYXBwbGljYXRpb25zIGZpbGw6IzY2ZmY2NixzdHJva2U6IzAwMCxzdHJva2Utd2lkdGg6MnB4OwoKICAgIGNsYXNzIEEgbWw7CiAgICBjbGFzcyBCLEMsRCxFIG1ldGhvZHM7CiAgICBjbGFzcyBGLEcsSCxJLEogZGF0YTsKICAgIGNsYXNzIEssTCxNLE4sTyxQIGFwcGxpY2F0aW9uczsK\"/>"
      ],
      "text/plain": [
       "<IPython.core.display.Image object>"
      ]
     },
     "metadata": {},
     "output_type": "display_data"
    }
   ],
   "source": [
    "import base64\n",
    "from IPython.display import Image, display\n",
    "import matplotlib.pyplot as plt\n",
    "\n",
    "def mm(graph):\n",
    "    graphbytes = graph.encode(\"utf8\")\n",
    "    base64_bytes = base64.urlsafe_b64encode(graphbytes)\n",
    "    base64_string = base64_bytes.decode(\"ascii\")\n",
    "    display(Image(url=\"https://mermaid.ink/img/\" + base64_string))\n",
    "\n",
    "mm(\"\"\"\n",
    "graph TD;\n",
    "    A[Machine Learning ML] -->|devoted to| B[Understanding and Building Methods]\n",
    "    A -->|methods that| C[Let Machines Learn]\n",
    "    C -->|leverage| D[Data]\n",
    "    D -->|improve| E[Computer Performance]\n",
    "    B -->|build| F[Model]\n",
    "    F -->|based on| G[Sample Data]\n",
    "    G -->|known as| H[Training Data]\n",
    "    F -->|make| I[Predictions or Decisions]\n",
    "    I -->|without| J[Explicit Programming]\n",
    "    A -->|used in| K[Wide Variety of Applications]\n",
    "    K -->|such as| L[Medicine]\n",
    "    K -->|such as| M[Email Filtering]\n",
    "    K -->|such as| N[Speech Recognition]\n",
    "    K -->|such as| O[Agriculture]\n",
    "    K -->|such as| P[Computer Vision]\n",
    "\n",
    "    classDef ml fill:#ffcc00,stroke:#000,stroke-width:2px;\n",
    "    classDef methods fill:#00ccff,stroke:#000,stroke-width:2px;\n",
    "    classDef data fill:#ff6699,stroke:#000,stroke-width:2px;\n",
    "    classDef applications fill:#66ff66,stroke:#000,stroke-width:2px;\n",
    "\n",
    "    class A ml;\n",
    "    class B,C,D,E methods;\n",
    "    class F,G,H,I,J data;\n",
    "    class K,L,M,N,O,P applications;\n",
    "\"\"\")"
   ]
  },
  {
   "cell_type": "code",
   "execution_count": 55,
   "metadata": {},
   "outputs": [
    {
     "data": {
      "text/html": [
       "<img src=\"https://mermaid.ink/img/CmdyYXBoIFREOwogICAgQVtNYWNoaW5lIExlYXJuaW5nIChNTCldIC0tPnxkZXZvdGVkIHRvfCBCW1VuZGVyc3RhbmRpbmcgYW5kIEJ1aWxkaW5nIE1ldGhvZHNdCiAgICBBIC0tPnxtZXRob2RzIHRoYXR8IENbTGV0IE1hY2hpbmVzICJMZWFybiJdCiAgICBDIC0tPnxsZXZlcmFnZXwgRFtEYXRhXQogICAgRCAtLT58aW1wcm92ZXwgRVtDb21wdXRlciBQZXJmb3JtYW5jZV0KICAgIEIgLS0-fGJ1aWxkfCBGW01vZGVsXQogICAgRiAtLT58YmFzZWQgb258IEdbU2FtcGxlIERhdGFdCiAgICBHIC0tPnxrbm93biBhc3wgSFtUcmFpbmluZyBEYXRhXQogICAgRiAtLT58bWFrZXwgSVtQcmVkaWN0aW9ucyBvciBEZWNpc2lvbnNdCiAgICBJIC0tPnx3aXRob3V0fCBKW0V4cGxpY2l0IFByb2dyYW1taW5nXQogICAgQSAtLT58dXNlZCBpbnwgS1tXaWRlIFZhcmlldHkgb2YgQXBwbGljYXRpb25zXQogICAgSyAtLT58c3VjaCBhc3wgTFtNZWRpY2luZV0KICAgIEsgLS0-fHN1Y2ggYXN8IE1bRW1haWwgRmlsdGVyaW5nXQogICAgSyAtLT58c3VjaCBhc3wgTltTcGVlY2ggUmVjb2duaXRpb25dCiAgICBLIC0tPnxzdWNoIGFzfCBPW0FncmljdWx0dXJlXQogICAgSyAtLT58c3VjaCBhc3wgUFtDb21wdXRlciBWaXNpb25dCgogICAgY2xhc3NEZWYgbWwgZmlsbDojZmZjYzAwLHN0cm9rZTojMDAwLHN0cm9rZS13aWR0aDoycHg7CiAgICBjbGFzc0RlZiBtZXRob2RzIGZpbGw6IzAwY2NmZixzdHJva2U6IzAwMCxzdHJva2Utd2lkdGg6MnB4OwogICAgY2xhc3NEZWYgZGF0YSBmaWxsOiNmZjY2OTksc3Ryb2tlOiMwMDAsc3Ryb2tlLXdpZHRoOjJweDsKICAgIGNsYXNzRGVmIGFwcGxpY2F0aW9ucyBmaWxsOiM2NmZmNjYsc3Ryb2tlOiMwMDAsc3Ryb2tlLXdpZHRoOjJweDsKCiAgICBjbGFzcyBBIG1sOwogICAgY2xhc3MgQixDLEQsRSBtZXRob2RzOwogICAgY2xhc3MgRixHLEgsSSxKIGRhdGE7CiAgICBjbGFzcyBLLEwsTSxOLE8sUCBhcHBsaWNhdGlvbnM7Cg==\"/>"
      ],
      "text/plain": [
       "<IPython.core.display.Image object>"
      ]
     },
     "metadata": {},
     "output_type": "display_data"
    }
   ],
   "source": [
    "import base64\n",
    "from IPython.display import Image, display\n",
    "\n",
    "def mm(graph):\n",
    "    graphbytes = graph.encode(\"utf8\")\n",
    "    base64_bytes = base64.urlsafe_b64encode(graphbytes)\n",
    "    base64_string = base64_bytes.decode(\"ascii\")\n",
    "    display(Image(url=\"https://mermaid.ink/img/\" + base64_string))\n",
    "\n",
    "# 完整的图表代码\n",
    "ml_diagram = \"\"\"\n",
    "graph TD;\n",
    "    A[Machine Learning (ML)] -->|devoted to| B[Understanding and Building Methods]\n",
    "    A -->|methods that| C[Let Machines \"Learn\"]\n",
    "    C -->|leverage| D[Data]\n",
    "    D -->|improve| E[Computer Performance]\n",
    "    B -->|build| F[Model]\n",
    "    F -->|based on| G[Sample Data]\n",
    "    G -->|known as| H[Training Data]\n",
    "    F -->|make| I[Predictions or Decisions]\n",
    "    I -->|without| J[Explicit Programming]\n",
    "    A -->|used in| K[Wide Variety of Applications]\n",
    "    K -->|such as| L[Medicine]\n",
    "    K -->|such as| M[Email Filtering]\n",
    "    K -->|such as| N[Speech Recognition]\n",
    "    K -->|such as| O[Agriculture]\n",
    "    K -->|such as| P[Computer Vision]\n",
    "\n",
    "    classDef ml fill:#ffcc00,stroke:#000,stroke-width:2px;\n",
    "    classDef methods fill:#00ccff,stroke:#000,stroke-width:2px;\n",
    "    classDef data fill:#ff6699,stroke:#000,stroke-width:2px;\n",
    "    classDef applications fill:#66ff66,stroke:#000,stroke-width:2px;\n",
    "\n",
    "    class A ml;\n",
    "    class B,C,D,E methods;\n",
    "    class F,G,H,I,J data;\n",
    "    class K,L,M,N,O,P applications;\n",
    "\"\"\"\n",
    "\n",
    "# 显示图表\n",
    "mm(ml_diagram)"
   ]
  },
  {
   "cell_type": "code",
   "execution_count": 57,
   "metadata": {},
   "outputs": [
    {
     "name": "stdout",
     "output_type": "stream",
     "text": [
      "---\n",
      "title: Little Women\n",
      "---\n",
      "graph \n",
      "meg[\"Meg\"]\n",
      "jo[\"Jo\"]\n",
      "beth[\"Beth\"]\n",
      "amy[\"Amy\"]\n",
      "robert_march[\"Robert March\"]\n",
      "robert_march ---> meg\n",
      "robert_march ---> jo\n",
      "robert_march ---> beth\n",
      "robert_march ---> amy\n"
     ]
    }
   ],
   "source": [
    "# Creating a simple flowchart diagram\n",
    "from python_mermaid.diagram import (\n",
    "    MermaidDiagram,\n",
    "    Node,\n",
    "    Link\n",
    ")\n",
    "\n",
    "# Family members\n",
    "meg = Node(\"Meg\")\n",
    "jo = Node(\"Jo\")\n",
    "beth = Node(\"Beth\")\n",
    "amy = Node(\"Amy\")\n",
    "robert = Node(\"Robert March\")\n",
    "\n",
    "the_march_family = [meg, jo, beth, amy, robert]\n",
    "\n",
    "# Create links\n",
    "family_links = [\n",
    "    Link(robert, meg),\n",
    "    Link(robert, jo),\n",
    "    Link(robert, beth),\n",
    "    Link(robert, amy),\n",
    "]\n",
    "\n",
    "chart = MermaidDiagram(\n",
    "    title=\"Little Women\",\n",
    "    nodes=the_march_family,\n",
    "    links=family_links\n",
    ")\n",
    "\n",
    "print(chart)"
   ]
  }
 ],
 "metadata": {
  "kernelspec": {
   "display_name": "whisper_core",
   "language": "python",
   "name": "python3"
  },
  "language_info": {
   "codemirror_mode": {
    "name": "ipython",
    "version": 3
   },
   "file_extension": ".py",
   "mimetype": "text/x-python",
   "name": "python",
   "nbconvert_exporter": "python",
   "pygments_lexer": "ipython3",
   "version": "3.10.0"
  }
 },
 "nbformat": 4,
 "nbformat_minor": 2
}
